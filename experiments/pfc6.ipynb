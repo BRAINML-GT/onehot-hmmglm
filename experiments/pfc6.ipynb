{
 "cells": [
  {
   "cell_type": "code",
   "execution_count": 1,
   "id": "24aba93b",
   "metadata": {},
   "outputs": [],
   "source": [
    "import numpy as np"
   ]
  },
  {
   "cell_type": "code",
   "execution_count": 2,
   "id": "5f1482e2",
   "metadata": {},
   "outputs": [],
   "source": [
    "import hmmglm"
   ]
  },
  {
   "cell_type": "code",
   "execution_count": 5,
   "id": "6e71e480",
   "metadata": {},
   "outputs": [],
   "source": [
    "from hmmglm.deprecated import utils"
   ]
  },
  {
   "cell_type": "code",
   "execution_count": null,
   "id": "07e0d0f3",
   "metadata": {},
   "outputs": [],
   "source": []
  }
 ],
 "metadata": {
  "kernelspec": {
   "display_name": "base",
   "language": "python",
   "name": "python3"
  },
  "language_info": {
   "codemirror_mode": {
    "name": "ipython",
    "version": 3
   },
   "file_extension": ".py",
   "mimetype": "text/x-python",
   "name": "python",
   "nbconvert_exporter": "python",
   "pygments_lexer": "ipython3",
   "version": "3.12.2"
  }
 },
 "nbformat": 4,
 "nbformat_minor": 5
}
